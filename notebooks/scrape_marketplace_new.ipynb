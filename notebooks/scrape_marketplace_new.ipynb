{
 "cells": [
  {
   "cell_type": "code",
   "execution_count": 3,
   "metadata": {},
   "outputs": [],
   "source": [
    "import os \n",
    "import logging\n",
    "import pandas as pd\n",
    "from splinter import Browser\n",
    "from bs4 import BeautifulSoup as soup\n",
    "from selenium.webdriver.chrome.options import Options"
   ]
  },
  {
   "cell_type": "code",
   "execution_count": 4,
   "metadata": {},
   "outputs": [],
   "source": [
    "# Set up logging\n",
    "logging.basicConfig(level=logging.INFO)\n",
    "logger = logging.getLogger(__name__)"
   ]
  },
  {
   "cell_type": "code",
   "execution_count": 5,
   "metadata": {},
   "outputs": [],
   "source": [
    "def extract_listing_for_url(url):\n",
    "    \"\"\"\n",
    "    Scrape the listing for the given URL\n",
    "    \"\"\"\n",
    "    try:\n",
    "        logger.info(f\"Processing URL: {url}\")\n",
    "\n",
    "        chrome_options = Options()\n",
    "        chrome_options.add_argument(\"--headless\")  # Run in headless mode\n",
    "        chrome_options.add_argument(\"--disable-gpu\")\n",
    "        chrome_options.add_argument(\"--no-sandbox\")\n",
    "        chrome_options.add_argument(\"--disable-dev-shm-usage\")\n",
    "\n",
    "        browser = Browser('chrome', options=chrome_options)\n",
    "        browser.visit(url)\n",
    "\n",
    "        # Handle pop-ups\n",
    "        if browser.is_element_present_by_css('div[aria-label=\"Close\"]', wait_time=5):\n",
    "            logger.info(\"Closing pop-up\")\n",
    "            browser.find_by_css('div[aria-label=\"Close\"]').first.click()\n",
    "\n",
    "        browser.execute_script(\"window.scrollTo(0, 400);\")\n",
    "        \n",
    "        # Click the \"See More\" button if it exists\n",
    "        try:\n",
    "            see_more_button = browser.find_by_css('div[role=\"button\"] span.x193iq5w.xeuugli.x13faqbe.x1vvkbs.x1xmvt09.x6prxxf.xvq8zen.x1s688f.xzsf02u')\n",
    "            if see_more_button:\n",
    "                see_more_button.click()\n",
    "            else:\n",
    "                logger.info(\"See more button not found\")\n",
    "        except Exception as e:\n",
    "            logger.warning(f\"See more button error: {e}\")\n",
    "\n",
    "        # Parse the HTML\n",
    "        html = browser.html\n",
    "        market_soup = soup(html, 'html.parser')\n",
    "\n",
    "        # Extract relevant data\n",
    "        div_element = market_soup.find('div', class_='xckqwgs x26u7qi x2j4hbs x78zum5 xnp8db0 x5yr21d x1n2onr6 xh8yej3 xzepove x1stjdt1')\n",
    "        div_text = div_element.get_text(separator=' ', strip=True) if div_element else ''\n",
    "\n",
    "        # Close browser\n",
    "        browser.quit()\n",
    "        print(div_text)\n",
    "        return div_text\n",
    "\n",
    "    except Exception as e:\n",
    "        logger.error(f\"Error processing {url}: {e}\")\n",
    "        return None"
   ]
  },
  {
   "cell_type": "code",
   "execution_count": 6,
   "metadata": {},
   "outputs": [
    {
     "name": "stderr",
     "output_type": "stream",
     "text": [
      "INFO:__main__:Processing URL: https://www.facebook.com/marketplace/item/1312770963176477/\n",
      "INFO:__main__:Closing pop-up\n"
     ]
    },
    {
     "name": "stdout",
     "output_type": "stream",
     "text": [
      "Private room for rent $800 / Month Rentals Salem, MA Listed 14 hours ago Message Message Save Share Save Share Unit Details Apartment 3 beds · 1 bath Unfurnished 2 persons live here Rental Location Salem, MA Location is approximate Description Private room for rent available May 1st!\n",
      "$800 rent month to month plus roughly $150 for utilities (WiFi/cable/gas/electric)\n",
      "Spacious apartment with a front and back porch and washer/dryer in the basement (coin-op) \n",
      "\n",
      "There is a great landlord that is very on top of managing the house.\n",
      "Shared driveway parking and street parking \n",
      "\n",
      "About the current roomie: In early 30s and enjoys yoga, plants, cooking, movie nights, going out dancing and being out in nature. Very quiet and clean and looking for someone similar! \n",
      "\n",
      "Please message with what you do for work and your rental history See less Getting Around Provided by Walk Score®︎ Walk Score®︎ 86 out of 100 Most errands can be accomplished on foot. Transit Score®︎ 30 out of 100 A few nearby public transportation options. Bike Score®︎ 70 out of 100 Biking is convenient for most trips. Nearby Transit Provided by Walk Score®︎ Lafayette St @ Hancock St Routes: 455 Salem Depot - Wonderland Station 826 ft Essex St @ Warren St Routes: 450 Salem Depot - Wonderland or Haymarket Station, 456 Salem Depot - Central Square, Lynn 3,401 ft Report this listing if you think it discriminates against people. Message\n"
     ]
    }
   ],
   "source": [
    "description = extract_listing_for_url(\"https://www.facebook.com/marketplace/item/1312770963176477/\")"
   ]
  },
  {
   "cell_type": "code",
   "execution_count": 7,
   "metadata": {},
   "outputs": [],
   "source": [
    "import configparser\n",
    "from snowflake.snowpark import Session\n",
    "from snowflake.cortex import complete\n",
    "\n",
    "def load_snowflake_config():\n",
    "    \"\"\"Load Snowflake connection parameters from config file.\"\"\"\n",
    "    config = configparser.ConfigParser()\n",
    "    config.read('configuration.properties')\n",
    "    return {\n",
    "        \"user\": config['snowflake']['user'],\n",
    "        \"password\": config['snowflake']['password'],\n",
    "        \"account\": config['snowflake']['account'],\n",
    "        \"warehouse\": config['snowflake']['warehouse'],\n",
    "        \"database\": config['snowflake']['database'],\n",
    "        \"schema\": config['snowflake']['schema']\n",
    "    }"
   ]
  },
  {
   "cell_type": "code",
   "execution_count": 8,
   "metadata": {},
   "outputs": [],
   "source": [
    "connection_params = load_snowflake_config()"
   ]
  },
  {
   "cell_type": "code",
   "execution_count": 9,
   "metadata": {},
   "outputs": [],
   "source": [
    "# LLM Prompt\n",
    "prompt = \"\"\"\n",
    "I will provide a property listing with multiple attributes. \n",
    "Please extract the following details from the listing and return them in JSON format. If a field is missing or not found, leave the field blank or set it to `null`.\n",
    "\n",
    "- **Room Count**: The number of rooms/beds (ROOM_COUNT).\n",
    "- **Bathroom Count**: The number of bathrooms (BATH_COUNT).\n",
    "- **People Count**: The number of people living in the property (PEOPLE_COUNT).\n",
    "- **Description**: The short description summary of the property. Translate to English language wherever necessary (DESCRIPTION_summary).\n",
    "- **Contact**: The contact number for the listing (CONTACT).\n",
    "- **Laundry Availability**: if laundry available then 1 or else 0 (LAUNDARY_AVAILABLE).\n",
    "- **Room Type**: Type of room (e.g., Private or Shared) (ROOM_TYPE).\n",
    "- **Other Details**: Any additional details in a dictionary format (OTHER_details).\n",
    "\n",
    "Ensure the JSON response follows this structure:\n",
    "{\n",
    "    \"room_count\": number <room_count or null>,\n",
    "    \"bath_count\": number <bath_count or null>,\n",
    "    \"people_count\": number <people_count or null>,\n",
    "    \"description\": string \"<description_summary or null>\",\n",
    "    \"contact\": number \"<contact_number or null>\",\n",
    "    \"laundry_available\": integer (0/1)<laundry_available or null>,\n",
    "    \"room_type\": string \"<room_type or null>\",\n",
    "    \"other_details\": dict <other_details_dict or null>\n",
    "}\n",
    "\"\"\""
   ]
  },
  {
   "cell_type": "code",
   "execution_count": 10,
   "metadata": {},
   "outputs": [
    {
     "name": "stderr",
     "output_type": "stream",
     "text": [
      "INFO:snowflake.connector.connection:Snowflake Connector for Python Version: 3.14.0, Python Version: 3.10.0, Platform: Windows-10-10.0.26100-SP0\n",
      "INFO:snowflake.connector.connection:Connecting to GLOBAL Snowflake domain\n",
      "INFO:snowflake.connector.connection:This connection is in OCSP Fail Open Mode. TLS Certificates would be checked for validity and revocation status. Any other Certificate Revocation related exceptions or OCSP Responder failures would be disregarded in favor of connectivity.\n",
      "INFO:snowflake.snowpark.session:Snowpark Session information: \n",
      "\"version\" : 1.29.1,\n",
      "\"python.version\" : 3.10.0,\n",
      "\"python.connector.version\" : 3.14.0,\n",
      "\"python.connector.session.id\" : 1079046110701910,\n",
      "\"os.name\" : Windows\n",
      "\n"
     ]
    }
   ],
   "source": [
    "session = Session.builder.configs(connection_params).create()"
   ]
  },
  {
   "cell_type": "code",
   "execution_count": 11,
   "metadata": {},
   "outputs": [],
   "source": [
    "response = complete(\n",
    "                \"claude-3-5-sonnet\",\n",
    "                # \"mistral-7b\",\n",
    "                f\"{prompt} \\n\\n listing description: \\n {description}\",\n",
    "                session=session\n",
    "            )"
   ]
  },
  {
   "cell_type": "code",
   "execution_count": 12,
   "metadata": {},
   "outputs": [
    {
     "data": {
      "text/plain": [
       "'{\\n    \"room_count\": 3,\\n    \"bath_count\": 1,\\n    \"people_count\": 2,\\n    \"description\": \"Private room for rent available May 1st. Spacious apartment with front and back porch. Located in Salem, MA. Current roommate is in early 30s, enjoys yoga, plants, cooking, movie nights, dancing and nature. Looking for quiet and clean roommate.\",\\n    \"contact\": null,\\n    \"laundry_available\": 1,\\n    \"room_type\": \"Private\",\\n    \"other_details\": {\\n        \"rent\": \"$800/month\",\\n        \"utilities\": \"$150/month\",\\n        \"amenities\": [\\n            \"front porch\",\\n            \"back porch\",\\n            \"coin-op washer/dryer\",\\n            \"shared driveway parking\",\\n            \"street parking\"\\n        ],\\n        \"furnished\": \"Unfurnished\",\\n        \"walk_score\": 86,\\n        \"transit_score\": 30,\\n        \"bike_score\": 70\\n    }\\n}'"
      ]
     },
     "execution_count": 12,
     "metadata": {},
     "output_type": "execute_result"
    }
   ],
   "source": [
    "response"
   ]
  },
  {
   "cell_type": "code",
   "execution_count": null,
   "metadata": {},
   "outputs": [],
   "source": []
  }
 ],
 "metadata": {
  "kernelspec": {
   "display_name": "venv",
   "language": "python",
   "name": "python3"
  },
  "language_info": {
   "codemirror_mode": {
    "name": "ipython",
    "version": 3
   },
   "file_extension": ".py",
   "mimetype": "text/x-python",
   "name": "python",
   "nbconvert_exporter": "python",
   "pygments_lexer": "ipython3",
   "version": "3.10.0"
  }
 },
 "nbformat": 4,
 "nbformat_minor": 2
}
